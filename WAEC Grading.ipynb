{
 "cells": [
  {
   "cell_type": "code",
   "execution_count": 1,
   "id": "50ec385b-a728-4316-8c8d-f35e057c1b8e",
   "metadata": {},
   "outputs": [
    {
     "name": "stdout",
     "output_type": "stream",
     "text": [
      "GRADE: B3\n"
     ]
    }
   ],
   "source": [
    "score = 68\n",
    "if (score < 40):\n",
    "    grade ='F9'\n",
    "elif(score >= 40 and score<=44):\n",
    "    grade ='E8'\n",
    "elif(score >= 45 and score<=49):\n",
    "    grade ='D7'\n",
    "elif(score >= 50 and score<=54):\n",
    "    grade ='C6'\n",
    "elif(score >=55 and score <=59):\n",
    "    grade ='C5'\n",
    "elif(score >=60 and score <=64):\n",
    "    grade ='C4'\n",
    "elif(score >=65 and score <=79):\n",
    "    grade ='B3'\n",
    "elif(score >=70 and score <=74):\n",
    "    grade ='B2'\n",
    "elif(score >=75 and score <=100):\n",
    "    grade ='A1'\n",
    "else:\n",
    "    print(\"score cannot be graded\")\n",
    "print('GRADE:',grade)"
   ]
  }
 ],
 "metadata": {
  "kernelspec": {
   "display_name": "Python 3 (ipykernel)",
   "language": "python",
   "name": "python3"
  },
  "language_info": {
   "codemirror_mode": {
    "name": "ipython",
    "version": 3
   },
   "file_extension": ".py",
   "mimetype": "text/x-python",
   "name": "python",
   "nbconvert_exporter": "python",
   "pygments_lexer": "ipython3",
   "version": "3.9.7"
  }
 },
 "nbformat": 4,
 "nbformat_minor": 5
}
